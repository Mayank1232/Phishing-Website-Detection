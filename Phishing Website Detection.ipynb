{
 "cells": [
  {
   "cell_type": "code",
   "execution_count": 1,
   "metadata": {},
   "outputs": [],
   "source": [
    "import pandas as pd\n",
    "import numpy as np"
   ]
  },
  {
   "cell_type": "code",
   "execution_count": 2,
   "metadata": {},
   "outputs": [],
   "source": [
    "import seaborn as sns\n",
    "import matplotlib.pyplot as plt"
   ]
  },
  {
   "cell_type": "code",
   "execution_count": 3,
   "metadata": {},
   "outputs": [],
   "source": [
    "df = pd.read_csv('E:/Study/Dataset/phishing_site_urls.csv')"
   ]
  },
  {
   "cell_type": "code",
   "execution_count": 4,
   "metadata": {},
   "outputs": [
    {
     "data": {
      "text/html": [
       "<div>\n",
       "<style scoped>\n",
       "    .dataframe tbody tr th:only-of-type {\n",
       "        vertical-align: middle;\n",
       "    }\n",
       "\n",
       "    .dataframe tbody tr th {\n",
       "        vertical-align: top;\n",
       "    }\n",
       "\n",
       "    .dataframe thead th {\n",
       "        text-align: right;\n",
       "    }\n",
       "</style>\n",
       "<table border=\"1\" class=\"dataframe\">\n",
       "  <thead>\n",
       "    <tr style=\"text-align: right;\">\n",
       "      <th></th>\n",
       "      <th>URL</th>\n",
       "      <th>Label</th>\n",
       "    </tr>\n",
       "  </thead>\n",
       "  <tbody>\n",
       "    <tr>\n",
       "      <th>0</th>\n",
       "      <td>nobell.it/70ffb52d079109dca5664cce6f317373782/...</td>\n",
       "      <td>bad</td>\n",
       "    </tr>\n",
       "    <tr>\n",
       "      <th>1</th>\n",
       "      <td>www.dghjdgf.com/paypal.co.uk/cycgi-bin/webscrc...</td>\n",
       "      <td>bad</td>\n",
       "    </tr>\n",
       "    <tr>\n",
       "      <th>2</th>\n",
       "      <td>serviciosbys.com/paypal.cgi.bin.get-into.herf....</td>\n",
       "      <td>bad</td>\n",
       "    </tr>\n",
       "    <tr>\n",
       "      <th>3</th>\n",
       "      <td>mail.printakid.com/www.online.americanexpress....</td>\n",
       "      <td>bad</td>\n",
       "    </tr>\n",
       "    <tr>\n",
       "      <th>4</th>\n",
       "      <td>thewhiskeydregs.com/wp-content/themes/widescre...</td>\n",
       "      <td>bad</td>\n",
       "    </tr>\n",
       "  </tbody>\n",
       "</table>\n",
       "</div>"
      ],
      "text/plain": [
       "                                                 URL Label\n",
       "0  nobell.it/70ffb52d079109dca5664cce6f317373782/...   bad\n",
       "1  www.dghjdgf.com/paypal.co.uk/cycgi-bin/webscrc...   bad\n",
       "2  serviciosbys.com/paypal.cgi.bin.get-into.herf....   bad\n",
       "3  mail.printakid.com/www.online.americanexpress....   bad\n",
       "4  thewhiskeydregs.com/wp-content/themes/widescre...   bad"
      ]
     },
     "execution_count": 4,
     "metadata": {},
     "output_type": "execute_result"
    }
   ],
   "source": [
    "df.head()"
   ]
  },
  {
   "cell_type": "code",
   "execution_count": 5,
   "metadata": {},
   "outputs": [
    {
     "name": "stdout",
     "output_type": "stream",
     "text": [
      "<class 'pandas.core.frame.DataFrame'>\n",
      "RangeIndex: 549346 entries, 0 to 549345\n",
      "Data columns (total 2 columns):\n",
      " #   Column  Non-Null Count   Dtype \n",
      "---  ------  --------------   ----- \n",
      " 0   URL     549346 non-null  object\n",
      " 1   Label   549346 non-null  object\n",
      "dtypes: object(2)\n",
      "memory usage: 8.4+ MB\n"
     ]
    }
   ],
   "source": [
    "df.info()"
   ]
  },
  {
   "cell_type": "code",
   "execution_count": 6,
   "metadata": {},
   "outputs": [
    {
     "data": {
      "text/plain": [
       "549346"
      ]
     },
     "execution_count": 6,
     "metadata": {},
     "output_type": "execute_result"
    }
   ],
   "source": [
    "len(df)"
   ]
  },
  {
   "cell_type": "code",
   "execution_count": 7,
   "metadata": {},
   "outputs": [
    {
     "data": {
      "text/plain": [
       "URL      0\n",
       "Label    0\n",
       "dtype: int64"
      ]
     },
     "execution_count": 7,
     "metadata": {},
     "output_type": "execute_result"
    }
   ],
   "source": [
    "df.isnull().sum()"
   ]
  },
  {
   "cell_type": "code",
   "execution_count": 8,
   "metadata": {},
   "outputs": [],
   "source": [
    "# To see that the dataset are balanced or imbalanced\n",
    "label_counts = pd.DataFrame(df.Label.value_counts())"
   ]
  },
  {
   "cell_type": "code",
   "execution_count": 9,
   "metadata": {},
   "outputs": [
    {
     "name": "stderr",
     "output_type": "stream",
     "text": [
      "C:\\Users\\hp\\anaconda3\\lib\\site-packages\\seaborn\\_decorators.py:36: FutureWarning: Pass the following variables as keyword args: x, y. From version 0.12, the only valid positional argument will be `data`, and passing other arguments without an explicit keyword will result in an error or misinterpretation.\n",
      "  warnings.warn(\n"
     ]
    },
    {
     "data": {
      "text/plain": [
       "<AxesSubplot:ylabel='Label'>"
      ]
     },
     "execution_count": 9,
     "metadata": {},
     "output_type": "execute_result"
    },
    {
     "data": {
      "image/png": "[encoded data removed]",
      "text/plain": [
       "<Figure size 432x288 with 1 Axes>"
      ]
     },
     "metadata": {},
     "output_type": "display_data"
    }
   ],
   "source": [
    "sns.set_style('darkgrid')\n",
    "sns.barplot(label_counts.index,label_counts.Label)"
   ]
  },
  {
   "cell_type": "markdown",
   "metadata": {},
   "source": [
    "### Pre-Processing"
   ]
  },
  {
   "cell_type": "code",
   "execution_count": 10,
   "metadata": {},
   "outputs": [],
   "source": [
    "from nltk.tokenize import RegexpTokenizer\n",
    "tokenizer = RegexpTokenizer(r'[A-za-z]+')"
   ]
  },
  {
   "cell_type": "code",
   "execution_count": 11,
   "metadata": {},
   "outputs": [
    {
     "data": {
      "text/plain": [
       "'nobell.it/70ffb52d079109dca5664cce6f317373782/login.SkyPe.com/en/cgi-bin/verification/login/70ffb52d079109dca5664cce6f317373/index.php?cmd=_profile-ach&outdated_page_tmpl=p/gen/failed-to-load&nav=0.5.1&login_access=1322408526'"
      ]
     },
     "execution_count": 11,
     "metadata": {},
     "output_type": "execute_result"
    }
   ],
   "source": [
    "df.URL[0]"
   ]
  },
  {
   "cell_type": "code",
   "execution_count": 12,
   "metadata": {},
   "outputs": [
    {
     "data": {
      "text/plain": [
       "['nobell',\n",
       " 'it',\n",
       " 'ffb',\n",
       " 'd',\n",
       " 'dca',\n",
       " 'cce',\n",
       " 'f',\n",
       " 'login',\n",
       " 'SkyPe',\n",
       " 'com',\n",
       " 'en',\n",
       " 'cgi',\n",
       " 'bin',\n",
       " 'verification',\n",
       " 'login',\n",
       " 'ffb',\n",
       " 'd',\n",
       " 'dca',\n",
       " 'cce',\n",
       " 'f',\n",
       " 'index',\n",
       " 'php',\n",
       " 'cmd',\n",
       " '_profile',\n",
       " 'ach',\n",
       " 'outdated_page_tmpl',\n",
       " 'p',\n",
       " 'gen',\n",
       " 'failed',\n",
       " 'to',\n",
       " 'load',\n",
       " 'nav',\n",
       " 'login_access']"
      ]
     },
     "execution_count": 12,
     "metadata": {},
     "output_type": "execute_result"
    }
   ],
   "source": [
    "# this will be pull letter which matches the expression\n",
    "tokenizer.tokenize(df.URL[0])"
   ]
  },
  {
   "cell_type": "code",
   "execution_count": 13,
   "metadata": {},
   "outputs": [
    {
     "name": "stdout",
     "output_type": "stream",
     "text": [
      "Getting words tokenized...\n",
      "Time Taken 2.5069884000000116 sec\n"
     ]
    }
   ],
   "source": [
    "import time\n",
    "print('Getting words tokenized...')\n",
    "t0 = time.perf_counter()\n",
    "df['text_tokenized'] = df.URL.map(lambda t: tokenizer.tokenize(t))\n",
    "t1 = time.perf_counter()-t0\n",
    "print('Time Taken',t1,'sec')"
   ]
  },
  {
   "cell_type": "code",
   "execution_count": 14,
   "metadata": {},
   "outputs": [
    {
     "data": {
      "text/html": [
       "<div>\n",
       "<style scoped>\n",
       "    .dataframe tbody tr th:only-of-type {\n",
       "        vertical-align: middle;\n",
       "    }\n",
       "\n",
       "    .dataframe tbody tr th {\n",
       "        vertical-align: top;\n",
       "    }\n",
       "\n",
       "    .dataframe thead th {\n",
       "        text-align: right;\n",
       "    }\n",
       "</style>\n",
       "<table border=\"1\" class=\"dataframe\">\n",
       "  <thead>\n",
       "    <tr style=\"text-align: right;\">\n",
       "      <th></th>\n",
       "      <th>URL</th>\n",
       "      <th>Label</th>\n",
       "      <th>text_tokenized</th>\n",
       "    </tr>\n",
       "  </thead>\n",
       "  <tbody>\n",
       "    <tr>\n",
       "      <th>466287</th>\n",
       "      <td>worldstarhiphop.com/videos/video.php?v=wshhB22...</td>\n",
       "      <td>good</td>\n",
       "      <td>[worldstarhiphop, com, videos, video, php, v, ...</td>\n",
       "    </tr>\n",
       "    <tr>\n",
       "      <th>356432</th>\n",
       "      <td>icaic.ca/</td>\n",
       "      <td>good</td>\n",
       "      <td>[icaic, ca]</td>\n",
       "    </tr>\n",
       "    <tr>\n",
       "      <th>83895</th>\n",
       "      <td>www.esalesbiz.com/web/nntp.htm</td>\n",
       "      <td>good</td>\n",
       "      <td>[www, esalesbiz, com, web, nntp, htm]</td>\n",
       "    </tr>\n",
       "    <tr>\n",
       "      <th>533965</th>\n",
       "      <td>www.gebrvanorsouw.nl/g76gyui</td>\n",
       "      <td>bad</td>\n",
       "      <td>[www, gebrvanorsouw, nl, g, gyui]</td>\n",
       "    </tr>\n",
       "    <tr>\n",
       "      <th>110431</th>\n",
       "      <td>sevname.com/wp-content/themes/wpthemeone/doc09...</td>\n",
       "      <td>bad</td>\n",
       "      <td>[sevname, com, wp, content, themes, wpthemeone...</td>\n",
       "    </tr>\n",
       "  </tbody>\n",
       "</table>\n",
       "</div>"
      ],
      "text/plain": [
       "                                                      URL Label  \\\n",
       "466287  worldstarhiphop.com/videos/video.php?v=wshhB22...  good   \n",
       "356432                                          icaic.ca/  good   \n",
       "83895                      www.esalesbiz.com/web/nntp.htm  good   \n",
       "533965                       www.gebrvanorsouw.nl/g76gyui   bad   \n",
       "110431  sevname.com/wp-content/themes/wpthemeone/doc09...   bad   \n",
       "\n",
       "                                           text_tokenized  \n",
       "466287  [worldstarhiphop, com, videos, video, php, v, ...  \n",
       "356432                                        [icaic, ca]  \n",
       "83895               [www, esalesbiz, com, web, nntp, htm]  \n",
       "533965                  [www, gebrvanorsouw, nl, g, gyui]  \n",
       "110431  [sevname, com, wp, content, themes, wpthemeone...  "
      ]
     },
     "execution_count": 14,
     "metadata": {},
     "output_type": "execute_result"
    }
   ],
   "source": [
    "df.sample(5)"
   ]
  },
  {
   "cell_type": "code",
   "execution_count": 15,
   "metadata": {},
   "outputs": [],
   "source": [
    "# Snow ball stemmer\n",
    "from nltk.stem.snowball import SnowballStemmer # stemmes words\n",
    "from sklearn.feature_extraction.text import CountVectorizer"
   ]
  },
  {
   "cell_type": "code",
   "execution_count": 16,
   "metadata": {},
   "outputs": [],
   "source": [
    "stemmer = SnowballStemmer(\"english\")"
   ]
  },
  {
   "cell_type": "code",
   "execution_count": 17,
   "metadata": {},
   "outputs": [
    {
     "name": "stdout",
     "output_type": "stream",
     "text": [
      "Getting words stemmed...\n",
      "Time taken 47.51961700000001 sec\n"
     ]
    }
   ],
   "source": [
    "print('Getting words stemmed...')\n",
    "t0 = time.perf_counter()\n",
    "df['text_stemmed'] = df['text_tokenized'].map(lambda l: [stemmer.stem(word) for word in l])\n",
    "t1 = time.perf_counter()-t0\n",
    "print('Time taken',t1,'sec')"
   ]
  },
  {
   "cell_type": "code",
   "execution_count": 18,
   "metadata": {},
   "outputs": [
    {
     "data": {
      "text/html": [
       "<div>\n",
       "<style scoped>\n",
       "    .dataframe tbody tr th:only-of-type {\n",
       "        vertical-align: middle;\n",
       "    }\n",
       "\n",
       "    .dataframe tbody tr th {\n",
       "        vertical-align: top;\n",
       "    }\n",
       "\n",
       "    .dataframe thead th {\n",
       "        text-align: right;\n",
       "    }\n",
       "</style>\n",
       "<table border=\"1\" class=\"dataframe\">\n",
       "  <thead>\n",
       "    <tr style=\"text-align: right;\">\n",
       "      <th></th>\n",
       "      <th>URL</th>\n",
       "      <th>Label</th>\n",
       "      <th>text_tokenized</th>\n",
       "      <th>text_stemmed</th>\n",
       "    </tr>\n",
       "  </thead>\n",
       "  <tbody>\n",
       "    <tr>\n",
       "      <th>83236</th>\n",
       "      <td>www.uwm.edu/Libraries/courses/wiki/</td>\n",
       "      <td>good</td>\n",
       "      <td>[www, uwm, edu, Libraries, courses, wiki]</td>\n",
       "      <td>[www, uwm, edu, librari, cours, wiki]</td>\n",
       "    </tr>\n",
       "    <tr>\n",
       "      <th>352907</th>\n",
       "      <td>hockeyfights.com/players/4466</td>\n",
       "      <td>good</td>\n",
       "      <td>[hockeyfights, com, players]</td>\n",
       "      <td>[hockeyfight, com, player]</td>\n",
       "    </tr>\n",
       "    <tr>\n",
       "      <th>192618</th>\n",
       "      <td>genforum.genealogy.com/cupp/page4.html</td>\n",
       "      <td>good</td>\n",
       "      <td>[genforum, genealogy, com, cupp, page, html]</td>\n",
       "      <td>[genforum, genealog, com, cupp, page, html]</td>\n",
       "    </tr>\n",
       "    <tr>\n",
       "      <th>462855</th>\n",
       "      <td>wellness.com/dir/426369/chiropractor/ny/monroe...</td>\n",
       "      <td>good</td>\n",
       "      <td>[wellness, com, dir, chiropractor, ny, monroe,...</td>\n",
       "      <td>[well, com, dir, chiropractor, ny, monro, kenn...</td>\n",
       "    </tr>\n",
       "    <tr>\n",
       "      <th>44317</th>\n",
       "      <td>rahmat-stema-wana.p.ht/rahmat/logs.php</td>\n",
       "      <td>bad</td>\n",
       "      <td>[rahmat, stema, wana, p, ht, rahmat, logs, php]</td>\n",
       "      <td>[rahmat, stema, wana, p, ht, rahmat, log, php]</td>\n",
       "    </tr>\n",
       "  </tbody>\n",
       "</table>\n",
       "</div>"
      ],
      "text/plain": [
       "                                                      URL Label  \\\n",
       "83236                 www.uwm.edu/Libraries/courses/wiki/  good   \n",
       "352907                      hockeyfights.com/players/4466  good   \n",
       "192618             genforum.genealogy.com/cupp/page4.html  good   \n",
       "462855  wellness.com/dir/426369/chiropractor/ny/monroe...  good   \n",
       "44317              rahmat-stema-wana.p.ht/rahmat/logs.php   bad   \n",
       "\n",
       "                                           text_tokenized  \\\n",
       "83236           [www, uwm, edu, Libraries, courses, wiki]   \n",
       "352907                       [hockeyfights, com, players]   \n",
       "192618       [genforum, genealogy, com, cupp, page, html]   \n",
       "462855  [wellness, com, dir, chiropractor, ny, monroe,...   \n",
       "44317     [rahmat, stema, wana, p, ht, rahmat, logs, php]   \n",
       "\n",
       "                                             text_stemmed  \n",
       "83236               [www, uwm, edu, librari, cours, wiki]  \n",
       "352907                         [hockeyfight, com, player]  \n",
       "192618        [genforum, genealog, com, cupp, page, html]  \n",
       "462855  [well, com, dir, chiropractor, ny, monro, kenn...  \n",
       "44317      [rahmat, stema, wana, p, ht, rahmat, log, php]  "
      ]
     },
     "execution_count": 18,
     "metadata": {},
     "output_type": "execute_result"
    }
   ],
   "source": [
    "df.sample(5)"
   ]
  },
  {
   "cell_type": "code",
   "execution_count": 19,
   "metadata": {},
   "outputs": [
    {
     "name": "stdout",
     "output_type": "stream",
     "text": [
      "Getting Joining Words...\n",
      "Time Taken 0.26248140000001285 Sec\n"
     ]
    }
   ],
   "source": [
    "from sklearn.feature_extraction.text import CountVectorizer\n",
    "print('Getting Joining Words...')\n",
    "t0 = time.perf_counter()\n",
    "df['text_sent'] = df['text_stemmed'].map(lambda l: ' '.join(l))\n",
    "t1 = time.perf_counter()-t0\n",
    "print('Time Taken',t1,'Sec')"
   ]
  },
  {
   "cell_type": "code",
   "execution_count": 20,
   "metadata": {},
   "outputs": [
    {
     "data": {
      "text/html": [
       "<div>\n",
       "<style scoped>\n",
       "    .dataframe tbody tr th:only-of-type {\n",
       "        vertical-align: middle;\n",
       "    }\n",
       "\n",
       "    .dataframe tbody tr th {\n",
       "        vertical-align: top;\n",
       "    }\n",
       "\n",
       "    .dataframe thead th {\n",
       "        text-align: right;\n",
       "    }\n",
       "</style>\n",
       "<table border=\"1\" class=\"dataframe\">\n",
       "  <thead>\n",
       "    <tr style=\"text-align: right;\">\n",
       "      <th></th>\n",
       "      <th>URL</th>\n",
       "      <th>Label</th>\n",
       "      <th>text_tokenized</th>\n",
       "      <th>text_stemmed</th>\n",
       "      <th>text_sent</th>\n",
       "    </tr>\n",
       "  </thead>\n",
       "  <tbody>\n",
       "    <tr>\n",
       "      <th>446128</th>\n",
       "      <td>therestorationmovement.com/smith%2Cjohn.htm</td>\n",
       "      <td>good</td>\n",
       "      <td>[therestorationmovement, com, smith, Cjohn, htm]</td>\n",
       "      <td>[therestorationmov, com, smith, cjohn, htm]</td>\n",
       "      <td>therestorationmov com smith cjohn htm</td>\n",
       "    </tr>\n",
       "    <tr>\n",
       "      <th>431777</th>\n",
       "      <td>skillwho.com/users/painting/me/thomaston/kelle...</td>\n",
       "      <td>good</td>\n",
       "      <td>[skillwho, com, users, painting, me, thomaston...</td>\n",
       "      <td>[skillwho, com, user, paint, me, thomaston, ke...</td>\n",
       "      <td>skillwho com user paint me thomaston kelley gu...</td>\n",
       "    </tr>\n",
       "    <tr>\n",
       "      <th>407376</th>\n",
       "      <td>nuttymp3.com/download/josh-mahi-ve-arz-kra</td>\n",
       "      <td>good</td>\n",
       "      <td>[nuttymp, com, download, josh, mahi, ve, arz, ...</td>\n",
       "      <td>[nuttymp, com, download, josh, mahi, ve, arz, ...</td>\n",
       "      <td>nuttymp com download josh mahi ve arz kra</td>\n",
       "    </tr>\n",
       "    <tr>\n",
       "      <th>440947</th>\n",
       "      <td>supremelaw.org/cc/shubb/index.htm</td>\n",
       "      <td>good</td>\n",
       "      <td>[supremelaw, org, cc, shubb, index, htm]</td>\n",
       "      <td>[supremelaw, org, cc, shubb, index, htm]</td>\n",
       "      <td>supremelaw org cc shubb index htm</td>\n",
       "    </tr>\n",
       "    <tr>\n",
       "      <th>45272</th>\n",
       "      <td>www157.paypal.co.uk.97568.ssl-980.mx/js/webapp...</td>\n",
       "      <td>bad</td>\n",
       "      <td>[www, paypal, co, uk, ssl, mx, js, webapps, uk...</td>\n",
       "      <td>[www, paypal, co, uk, ssl, mx, js, webapp, uk,...</td>\n",
       "      <td>www paypal co uk ssl mx js webapp uk mpp cmnd ...</td>\n",
       "    </tr>\n",
       "  </tbody>\n",
       "</table>\n",
       "</div>"
      ],
      "text/plain": [
       "                                                      URL Label  \\\n",
       "446128        therestorationmovement.com/smith%2Cjohn.htm  good   \n",
       "431777  skillwho.com/users/painting/me/thomaston/kelle...  good   \n",
       "407376         nuttymp3.com/download/josh-mahi-ve-arz-kra  good   \n",
       "440947                  supremelaw.org/cc/shubb/index.htm  good   \n",
       "45272   www157.paypal.co.uk.97568.ssl-980.mx/js/webapp...   bad   \n",
       "\n",
       "                                           text_tokenized  \\\n",
       "446128   [therestorationmovement, com, smith, Cjohn, htm]   \n",
       "431777  [skillwho, com, users, painting, me, thomaston...   \n",
       "407376  [nuttymp, com, download, josh, mahi, ve, arz, ...   \n",
       "440947           [supremelaw, org, cc, shubb, index, htm]   \n",
       "45272   [www, paypal, co, uk, ssl, mx, js, webapps, uk...   \n",
       "\n",
       "                                             text_stemmed  \\\n",
       "446128        [therestorationmov, com, smith, cjohn, htm]   \n",
       "431777  [skillwho, com, user, paint, me, thomaston, ke...   \n",
       "407376  [nuttymp, com, download, josh, mahi, ve, arz, ...   \n",
       "440947           [supremelaw, org, cc, shubb, index, htm]   \n",
       "45272   [www, paypal, co, uk, ssl, mx, js, webapp, uk,...   \n",
       "\n",
       "                                                text_sent  \n",
       "446128              therestorationmov com smith cjohn htm  \n",
       "431777  skillwho com user paint me thomaston kelley gu...  \n",
       "407376          nuttymp com download josh mahi ve arz kra  \n",
       "440947                  supremelaw org cc shubb index htm  \n",
       "45272   www paypal co uk ssl mx js webapp uk mpp cmnd ...  "
      ]
     },
     "execution_count": 20,
     "metadata": {},
     "output_type": "execute_result"
    }
   ],
   "source": [
    "df.sample(5)"
   ]
  },
  {
   "cell_type": "markdown",
   "metadata": {},
   "source": [
    "### Creating Model"
   ]
  },
  {
   "cell_type": "code",
   "execution_count": 21,
   "metadata": {},
   "outputs": [],
   "source": [
    "from sklearn.feature_extraction.text import CountVectorizer"
   ]
  },
  {
   "cell_type": "code",
   "execution_count": 22,
   "metadata": {},
   "outputs": [],
   "source": [
    "cv = CountVectorizer()"
   ]
  },
  {
   "cell_type": "code",
   "execution_count": 23,
   "metadata": {},
   "outputs": [],
   "source": [
    "feature = cv.fit_transform(df.text_sent)"
   ]
  },
  {
   "cell_type": "code",
   "execution_count": 24,
   "metadata": {},
   "outputs": [
    {
     "data": {
      "text/plain": [
       "array([[0, 0, 0, ..., 0, 0, 0],\n",
       "       [0, 0, 0, ..., 0, 0, 0],\n",
       "       [0, 0, 0, ..., 0, 0, 0],\n",
       "       [0, 0, 0, ..., 0, 0, 0],\n",
       "       [0, 0, 0, ..., 0, 0, 0]], dtype=int64)"
      ]
     },
     "execution_count": 24,
     "metadata": {},
     "output_type": "execute_result"
    }
   ],
   "source": [
    "feature[:5].toarray()"
   ]
  },
  {
   "cell_type": "code",
   "execution_count": 25,
   "metadata": {},
   "outputs": [],
   "source": [
    "# Splitting the data\n",
    "from sklearn.model_selection import train_test_split\n",
    "x_train,x_test,y_train,y_test = train_test_split(feature,df.Label)"
   ]
  },
  {
   "cell_type": "markdown",
   "metadata": {},
   "source": [
    "\n",
    "### Logistics Regression"
   ]
  },
  {
   "cell_type": "code",
   "execution_count": 26,
   "metadata": {},
   "outputs": [],
   "source": [
    "from sklearn.linear_model import LogisticRegression\n",
    "lr = LogisticRegression()"
   ]
  },
  {
   "cell_type": "code",
   "execution_count": 27,
   "metadata": {},
   "outputs": [
    {
     "name": "stderr",
     "output_type": "stream",
     "text": [
      "C:\\Users\\hp\\anaconda3\\lib\\site-packages\\sklearn\\linear_model\\_logistic.py:762: ConvergenceWarning: lbfgs failed to converge (status=1):\n",
      "STOP: TOTAL NO. of ITERATIONS REACHED LIMIT.\n",
      "\n",
      "Increase the number of iterations (max_iter) or scale the data as shown in:\n",
      "    https://scikit-learn.org/stable/modules/preprocessing.html\n",
      "Please also refer to the documentation for alternative solver options:\n",
      "    https://scikit-learn.org/stable/modules/linear_model.html#logistic-regression\n",
      "  n_iter_i = _check_optimize_result(\n"
     ]
    },
    {
     "data": {
      "text/plain": [
       "LogisticRegression()"
      ]
     },
     "execution_count": 27,
     "metadata": {},
     "output_type": "execute_result"
    }
   ],
   "source": [
    "lr.fit(x_train,y_train)"
   ]
  },
  {
   "cell_type": "code",
   "execution_count": 28,
   "metadata": {},
   "outputs": [
    {
     "data": {
      "text/plain": [
       "0.963498547368881"
      ]
     },
     "execution_count": 28,
     "metadata": {},
     "output_type": "execute_result"
    }
   ],
   "source": [
    "lr.score(x_test,y_test)"
   ]
  },
  {
   "cell_type": "code",
   "execution_count": 33,
   "metadata": {},
   "outputs": [],
   "source": [
    "from sklearn.pipeline import make_pipeline\n",
    "pipeline_ls = make_pipeline(CountVectorizer(tokenizer = RegexpTokenizer(r'[A-Za-z]+').tokenize,stop_words='english'),LogisticRegression())"
   ]
  },
  {
   "cell_type": "code",
   "execution_count": 34,
   "metadata": {},
   "outputs": [],
   "source": [
    "x_train,x_test,y_train,y_test = train_test_split(df.URL,df.Label)"
   ]
  },
  {
   "cell_type": "code",
   "execution_count": 35,
   "metadata": {},
   "outputs": [
    {
     "name": "stderr",
     "output_type": "stream",
     "text": [
      "C:\\Users\\hp\\anaconda3\\lib\\site-packages\\sklearn\\linear_model\\_logistic.py:762: ConvergenceWarning: lbfgs failed to converge (status=1):\n",
      "STOP: TOTAL NO. of ITERATIONS REACHED LIMIT.\n",
      "\n",
      "Increase the number of iterations (max_iter) or scale the data as shown in:\n",
      "    https://scikit-learn.org/stable/modules/preprocessing.html\n",
      "Please also refer to the documentation for alternative solver options:\n",
      "    https://scikit-learn.org/stable/modules/linear_model.html#logistic-regression\n",
      "  n_iter_i = _check_optimize_result(\n"
     ]
    },
    {
     "data": {
      "text/plain": [
       "Pipeline(steps=[('countvectorizer',\n",
       "                 CountVectorizer(stop_words='english',\n",
       "                                 tokenizer=<bound method RegexpTokenizer.tokenize of RegexpTokenizer(pattern='[A-Za-z]+', gaps=False, discard_empty=True, flags=re.UNICODE|re.MULTILINE|re.DOTALL)>)),\n",
       "                ('logisticregression', LogisticRegression())])"
      ]
     },
     "execution_count": 35,
     "metadata": {},
     "output_type": "execute_result"
    }
   ],
   "source": [
    "pipeline_ls.fit(x_train,y_train)"
   ]
  },
  {
   "cell_type": "code",
   "execution_count": 36,
   "metadata": {},
   "outputs": [
    {
     "data": {
      "text/plain": [
       "0.9669062233775312"
      ]
     },
     "execution_count": 36,
     "metadata": {},
     "output_type": "execute_result"
    }
   ],
   "source": [
    "pipeline_ls.score(x_test,y_test)"
   ]
  },
  {
   "cell_type": "code",
   "execution_count": 40,
   "metadata": {},
   "outputs": [],
   "source": [
    "import pickle\n",
    "pickle.dump(pipeline_ls,open('phish.pkl','wb'))"
   ]
  },
  {
   "cell_type": "code",
   "execution_count": 41,
   "metadata": {},
   "outputs": [
    {
     "name": "stdout",
     "output_type": "stream",
     "text": [
      "0.9669062233775312\n"
     ]
    }
   ],
   "source": [
    "loaded_model = pickle.load(open('phishing.pkl','rb'))\n",
    "result = loaded_model.score(x_test,y_test)\n",
    "print(result)"
   ]
  },
  {
   "cell_type": "code",
   "execution_count": null,
   "metadata": {},
   "outputs": [],
   "source": []
  }
 ],
 "metadata": {
  "kernelspec": {
   "display_name": "Python 3",
   "language": "python",
   "name": "python3"
  },
  "language_info": {
   "codemirror_mode": {
    "name": "ipython",
    "version": 3
   },
   "file_extension": ".py",
   "mimetype": "text/x-python",
   "name": "python",
   "nbconvert_exporter": "python",
   "pygments_lexer": "ipython3",
   "version": "3.8.5"
  }
 },
 "nbformat": 4,
 "nbformat_minor": 4
}
